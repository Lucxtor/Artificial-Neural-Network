{
 "cells": [
  {
   "cell_type": "markdown",
   "id": "0bdd139e",
   "metadata": {},
   "source": [
    "# Rede Neural para Regressão Linear Múltipla\n",
    "Este notebook implementa e treina uma rede neural simples para uma tarefa de regressão linear múltipla, utilizando uma arquitetura `ReLU → Identity`."
   ]
  },
  {
   "cell_type": "code",
   "execution_count": 214,
   "id": "c6b91689",
   "metadata": {},
   "outputs": [
    {
     "data": {
      "text/plain": [
       "'pt_BR.UTF-8'"
      ]
     },
     "execution_count": 214,
     "metadata": {},
     "output_type": "execute_result"
    }
   ],
   "source": [
    "import numpy as np\n",
    "from ann import initialize_layers, feed_forward\n",
    "from backpropagation import backpropagation\n",
    "from prepareData.prepareDataRegression import prepareDataRegression\n",
    "from cost import cost_funcs\n",
    "from training import train\n",
    "from sklearn.preprocessing import MinMaxScaler\n",
    "from sklearn.metrics import mean_squared_error, mean_absolute_error, r2_score\n",
    "import locale\n",
    "locale.setlocale(locale.LC_ALL, 'pt_BR.UTF-8')"
   ]
  },
  {
   "cell_type": "markdown",
   "id": "ecc74832",
   "metadata": {},
   "source": [
    "## Configuração da Rede Neural\n",
    "Aqui definimos a arquitetura da rede e a inicialização das camadas."
   ]
  },
  {
   "cell_type": "code",
   "execution_count": 215,
   "id": "d0a78c9a",
   "metadata": {},
   "outputs": [],
   "source": [
    "input_size = 7\n",
    "\n",
    "layers = [\n",
    "    {'neurons': 7, 'activation_function': 'relu'},\n",
    "    {'neurons': 1, 'activation_function': 'identity'}\n",
    "]\n",
    "\n",
    "ann_layer = initialize_layers(layers, c_inputs=input_size)"
   ]
  },
  {
   "cell_type": "markdown",
   "id": "85293467",
   "metadata": {},
   "source": [
    "## Preparação dos Dados\n",
    "Utilizamos uma função auxiliar para carregar os dados de treino e teste."
   ]
  },
  {
   "cell_type": "code",
   "execution_count": 216,
   "id": "207cd448",
   "metadata": {},
   "outputs": [
    {
     "name": "stdout",
     "output_type": "stream",
     "text": [
      "Dados de entrada:\n",
      "['Square_Footage', 'Num_Bedrooms', 'Num_Bathrooms', 'Year_Built', 'Lot_Size', 'Garage_Size', 'Neighborhood_Quality']\n",
      "\n",
      "Dados de saída:\n",
      "House_Price\n",
      "\n",
      "Shape dos dados:\n",
      "x_train: (800, 7), y_train: (800,)\n",
      "x_test:  (200, 7),  y_test:  (200,)\n"
     ]
    }
   ],
   "source": [
    "x_train, x_test, y_train, y_test, min_max_values = prepareDataRegression()\n",
    "\n",
    "print(\"Dados de entrada:\")\n",
    "print(x_train.columns.tolist())\n",
    "print()\n",
    "\n",
    "print(\"Dados de saída:\")\n",
    "print(\"House_Price\")\n",
    "print()\n",
    "\n",
    "print(\"Shape dos dados:\")\n",
    "print(f\"x_train: {x_train.shape}, y_train: {np.array(y_train).shape}\")\n",
    "print(f\"x_test:  {x_test.shape},  y_test:  {np.array(y_test).shape}\")"
   ]
  },
  {
   "cell_type": "markdown",
   "id": "a60b374d",
   "metadata": {},
   "source": [
    "## Treinamento da Rede Neural\n",
    "Treinamos a rede por 10 épocas utilizando a função de custo Mean Squared Error (`mse`) e uma taxa de aprendizado de `0.002`."
   ]
  },
  {
   "cell_type": "code",
   "execution_count": 217,
   "id": "7837ecd8",
   "metadata": {},
   "outputs": [],
   "source": [
    "stages = train(\n",
    "    ann=ann_layer,\n",
    "    epochs=20,\n",
    "    x=x_train,\n",
    "    y=np.array(y_train),\n",
    "    learning_rate=0.002,\n",
    "    cost_func_name='mse'\n",
    ")"
   ]
  },
  {
   "cell_type": "markdown",
   "id": "86071551",
   "metadata": {},
   "source": [
    "## Avaliação do Modelo\n",
    "Função para avaliar a acurácia utilizando o conjunto de testes e a função `regression_report`, criada usando as métricas de erro do `sklearn`."
   ]
  },
  {
   "cell_type": "code",
   "execution_count": 218,
   "id": "97436788",
   "metadata": {},
   "outputs": [],
   "source": [
    "def regression_report(y_true, y_pred):\n",
    "    mse = mean_squared_error(y_true, y_pred)\n",
    "    rmse = np.sqrt(mse)\n",
    "    mae = mean_absolute_error(y_true, y_pred)\n",
    "    r2 = r2_score(y_true, y_pred)\n",
    "\n",
    "    report = (\n",
    "        f\"Regression Report\\n\"\n",
    "        f\"------------------------\\n\"\n",
    "\n",
    "        f\"Mean Squared Error (MSE):       {mse:.4f}\\n\"\n",
    "        f\"Root Mean Squared Error (RMSE): {locale.currency(rmse, grouping=True)}\\n\"\n",
    "        f\"Mean Absolute Error (MAE):      {mae:.4f}\\n\"\n",
    "        f\"R² Score:                       {r2:.4f}\"\n",
    "    )\n",
    "    return report\n",
    "\n",
    "def evaluate(ann, x, y, min_max_values):\n",
    "  predictions = []\n",
    "  for observation_id in range(len(x)):\n",
    "\n",
    "    input = np.array(x.iloc[observation_id])\n",
    "    prediction, _ = feed_forward(ann, input)\n",
    "    predictions.append(prediction)\n",
    "\n",
    "  scaler = MinMaxScaler(feature_range=min_max_values)\n",
    "  scaler.fit(np.array([[0], [1]]))\n",
    "\n",
    "  y_denormalized = scaler.transform(y.reshape(-1, 1))\n",
    "  predictions_denormalized = scaler.transform(predictions)\n",
    "\n",
    "  print(\"Resultados das Predições:\")\n",
    "  print(regression_report(y_denormalized, predictions_denormalized))"
   ]
  },
  {
   "cell_type": "code",
   "execution_count": 219,
   "id": "89df3444",
   "metadata": {},
   "outputs": [
    {
     "name": "stdout",
     "output_type": "stream",
     "text": [
      "Resultados das Predições:\n",
      "Regression Report\n",
      "------------------------\n",
      "Mean Squared Error (MSE):       762960597.1761\n",
      "Root Mean Squared Error (RMSE): R$ 27.621,74\n",
      "Mean Absolute Error (MAE):      21829.6171\n",
      "R² Score:                       0.9888\n"
     ]
    }
   ],
   "source": [
    "evaluate(stages, x_test, y_test, min_max_values)"
   ]
  },
  {
   "cell_type": "markdown",
   "id": "e29d7a6d",
   "metadata": {},
   "source": [
    "## Exemplos de Predições"
   ]
  },
  {
   "cell_type": "code",
   "execution_count": 225,
   "id": "0a225150",
   "metadata": {},
   "outputs": [
    {
     "name": "stdout",
     "output_type": "stream",
     "text": [
      "Exemplo 1\n",
      "\n",
      "Entrada (vetor de características):\n",
      "[0.248 0.75  0.    0.486 0.946 1.    0.667]\n",
      "\n",
      "Valor verdadeiro: R$ 418003.16\n",
      "Valor predito:    R$ 402770.98\n",
      "Erro:             R$ 15232.18\n",
      "Vetor de saída (identity): [0.292]\n",
      "\n",
      "\n",
      "Exemplo 2\n",
      "\n",
      "Entrada (vetor de características):\n",
      "[0.649 0.5   0.    0.139 0.907 0.    0.111]\n",
      "\n",
      "Valor verdadeiro: R$ 731262.20\n",
      "Valor predito:    R$ 762068.47\n",
      "Erro:             R$ -30806.26\n",
      "Vetor de saída (identity): [0.653]\n",
      "\n",
      "\n"
     ]
    }
   ],
   "source": [
    "\n",
    "for i in range(2):\n",
    "  scaler = MinMaxScaler(feature_range=min_max_values)\n",
    "  scaler.fit(np.array([[0], [1]]))\n",
    "  input_vector = np.array(x_test.iloc[i])\n",
    "  y_true = y_test[i]\n",
    "  y_pred, _ = feed_forward(stages, input_vector)\n",
    "\n",
    "  y_denormalized = scaler.transform(y_true.reshape(-1, 1))\n",
    "  y_pred_denormalized = scaler.transform(y_pred.reshape(-1, 1))\n",
    "\n",
    "  print(f\"Exemplo {i+1}\")\n",
    "  print()\n",
    "  print(f\"Entrada (vetor de características):\\n{np.round(input_vector, 3)}\\n\")\n",
    "  print(f\"Valor verdadeiro: R$ {(y_denormalized[0][0]):.2f}\")\n",
    "  print(f\"Valor predito:    R$ {(y_pred_denormalized[0][0]):.2f}\")\n",
    "  print(f\"Erro:             R$ {(y_denormalized[0][0] - y_pred_denormalized[0][0]):.2f}\")\n",
    "  print(f\"Vetor de saída (identity): {np.round(y_pred, 3)}\")\n",
    "  print(\"\\n\")"
   ]
  }
 ],
 "metadata": {
  "kernelspec": {
   "display_name": "Python 3",
   "language": "python",
   "name": "python3"
  },
  "language_info": {
   "codemirror_mode": {
    "name": "ipython",
    "version": 3
   },
   "file_extension": ".py",
   "mimetype": "text/x-python",
   "name": "python",
   "nbconvert_exporter": "python",
   "pygments_lexer": "ipython3",
   "version": "3.10.12"
  }
 },
 "nbformat": 4,
 "nbformat_minor": 5
}
