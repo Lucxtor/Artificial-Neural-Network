{
 "cells": [
  {
   "cell_type": "markdown",
   "id": "a0b44086",
   "metadata": {},
   "source": [
    "# Rede Neural Artificil\n"
   ]
  },
  {
   "cell_type": "code",
   "execution_count": null,
   "id": "13dac7c1",
   "metadata": {},
   "outputs": [],
   "source": [
    "import numpy\n",
    "import pandas\n",
    "import matplotlib"
   ]
  },
  {
   "cell_type": "markdown",
   "id": "a5ea79b2",
   "metadata": {},
   "source": [
    "# Estrutura da Rede\n",
    "pesos, camadas, etc"
   ]
  },
  {
   "cell_type": "markdown",
   "id": "4ea27619",
   "metadata": {},
   "source": [
    "# 3 Funções de ativação"
   ]
  },
  {
   "cell_type": "markdown",
   "id": "cd93bcce",
   "metadata": {},
   "source": [
    "# 2 Funções de perda"
   ]
  },
  {
   "cell_type": "markdown",
   "id": "1215c6b9",
   "metadata": {},
   "source": [
    "# Algoritmo de retropropagação"
   ]
  },
  {
   "cell_type": "markdown",
   "id": "87fb1518",
   "metadata": {},
   "source": [
    "# Otimização por gradiente"
   ]
  }
 ],
 "metadata": {
  "kernelspec": {
   "display_name": "Python 3",
   "language": "python",
   "name": "python3"
  },
  "language_info": {
   "codemirror_mode": {
    "name": "ipython",
    "version": 3
   },
   "file_extension": ".py",
   "mimetype": "text/x-python",
   "name": "python",
   "nbconvert_exporter": "python",
   "pygments_lexer": "ipython3",
   "version": "3.8.10"
  }
 },
 "nbformat": 4,
 "nbformat_minor": 5
}
