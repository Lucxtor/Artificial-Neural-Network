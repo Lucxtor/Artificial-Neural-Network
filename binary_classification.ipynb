{
 "cells": [
  {
   "cell_type": "markdown",
   "id": "fb76a624",
   "metadata": {},
   "source": [
    "# Rede Neural para Classificação Binária\n",
    "Este notebook implementa e treina uma rede neural simples para uma tarefa de classificação binária, utilizando uma arquitetura `ReLU → Sigmoid`."
   ]
  },
  {
   "cell_type": "code",
   "execution_count": 10,
   "id": "d4669f43",
   "metadata": {},
   "outputs": [],
   "source": [
    "import numpy as np\n",
    "from ann import initialize_layers, feed_forward\n",
    "from backpropagation import backpropagation\n",
    "from prepareData.prepareDataBinaryClassification import prepareDataBinaryClassification\n",
    "from cost import cost_funcs\n",
    "from sklearn.metrics import classification_report\n",
    "import matplotlib.pyplot as plt\n",
    "from training import train"
   ]
  },
  {
   "cell_type": "markdown",
   "id": "9eaf90ef",
   "metadata": {},
   "source": [
    "## Configuração da Rede Neural\n",
    "Aqui definimos a arquitetura da rede e a inicialização das camadas."
   ]
  },
  {
   "cell_type": "code",
   "execution_count": 168,
   "id": "b3d7851d",
   "metadata": {},
   "outputs": [],
   "source": [
    "input_size = 6\n",
    "\n",
    "layers = [\n",
    "    {'neurons': 3, 'activation_function': 'relu'}, \n",
    "    {'neurons': 1, 'activation_function': 'sigmoid'}\n",
    "]\n",
    "\n",
    "ann_layer = initialize_layers(layers, c_inputs=6)"
   ]
  },
  {
   "cell_type": "markdown",
   "id": "68ec60f6",
   "metadata": {},
   "source": [
    "## Preparação dos Dados\n",
    "Utilizamos uma função auxiliar para carregar os dados de treino e teste.\n",
    "\n",
    "### As classes preditas são:\n",
    "- 0 - Adelie\n",
    "- 1 - Gentoo"
   ]
  },
  {
   "cell_type": "code",
   "execution_count": 169,
   "id": "180ba569",
   "metadata": {},
   "outputs": [
    {
     "name": "stdout",
     "output_type": "stream",
     "text": [
      "Dados de entrada:\n",
      "['island', 'bill_length_mm', 'bill_depth_mm', 'flipper_length_mm', 'body_mass_g', 'year']\n",
      "\n",
      "Dados de saída:\n",
      "Species\n",
      "\n",
      "Shape dos dados:\n",
      "x_train: (219, 6), y_train: (219,)\n",
      "x_test:  (55, 6),  y_test:  (55,)\n"
     ]
    }
   ],
   "source": [
    "x_train, x_test, y_train, y_test = prepareDataBinaryClassification()\n",
    "\n",
    "print(\"Dados de entrada:\")\n",
    "print(x_train.columns.tolist())\n",
    "print()\n",
    "\n",
    "print(\"Dados de saída:\")\n",
    "print(\"Species\")\n",
    "print()\n",
    "\n",
    "print(\"Shape dos dados:\")\n",
    "print(f\"x_train: {x_train.shape}, y_train: {np.array(y_train).shape}\")\n",
    "print(f\"x_test:  {x_test.shape},  y_test:  {np.array(y_test).shape}\")"
   ]
  },
  {
   "cell_type": "markdown",
   "id": "339619f0",
   "metadata": {},
   "source": [
    "## Treinamento da Rede Neural\n",
    "Treinamos a rede por 32 épocas utilizando a função de custo Binary Cross Entropy e uma taxa de aprendizado de `0.002`."
   ]
  },
  {
   "cell_type": "code",
   "execution_count": 170,
   "id": "866ab464",
   "metadata": {},
   "outputs": [],
   "source": [
    "stages = train(\n",
    "    ann=ann_layer, \n",
    "    epochs=32, \n",
    "    x=x_train, \n",
    "    y=y_train, \n",
    "    learning_rate=0.002, \n",
    "    cost_func_name='binary_cross_entropy'\n",
    ")"
   ]
  },
  {
   "cell_type": "markdown",
   "id": "ff15eb77",
   "metadata": {},
   "source": [
    "## Avaliação do Modelo\n",
    "Função para avaliar a acurácia utilizando o conjunto de testes e apresentando os resultados com a função `classification_report` do `sklearn`."
   ]
  },
  {
   "cell_type": "code",
   "execution_count": 171,
   "id": "771c4548",
   "metadata": {},
   "outputs": [],
   "source": [
    "def evaluate(ann, x, y):\n",
    "  predictions = []\n",
    "  for observation_id in range(len(x)):\n",
    "\n",
    "    input = np.array(x.iloc[observation_id])\n",
    "    prediction, _ = feed_forward(ann, input)\n",
    "    predictions.append(prediction[0])\n",
    "\n",
    "  predictions = np.round(predictions)\n",
    "  print(\"result:\")\n",
    "  print(classification_report(y, predictions))"
   ]
  },
  {
   "cell_type": "code",
   "execution_count": 172,
   "id": "47904c02",
   "metadata": {},
   "outputs": [
    {
     "name": "stdout",
     "output_type": "stream",
     "text": [
      "result:\n",
      "              precision    recall  f1-score   support\n",
      "\n",
      "           0       1.00      0.97      0.98        32\n",
      "           1       0.96      1.00      0.98        23\n",
      "\n",
      "    accuracy                           0.98        55\n",
      "   macro avg       0.98      0.98      0.98        55\n",
      "weighted avg       0.98      0.98      0.98        55\n",
      "\n"
     ]
    }
   ],
   "source": [
    "evaluate(stages, x_test, y_test)"
   ]
  },
  {
   "cell_type": "markdown",
   "id": "5198d65e",
   "metadata": {},
   "source": [
    "# Exemplo de Predições"
   ]
  },
  {
   "cell_type": "code",
   "execution_count": 173,
   "id": "a8730f25",
   "metadata": {},
   "outputs": [
    {
     "name": "stdout",
     "output_type": "stream",
     "text": [
      "Exemplo 1\n",
      "\n",
      "Entrada (vetor de características):\n",
      "[1.    0.385 0.619 0.407 0.355 1.   ]\n",
      "\n",
      "Classe verdadeira: 0\n",
      "Classe predita:    0\n",
      "Confiança da predição: 60%\n",
      "Vetor de saída (sigmoid): [0.402]\n",
      "\n",
      "\n",
      "Exemplo 2\n",
      "\n",
      "Entrada (vetor de características):\n",
      "[1.    0.727 0.464 0.983 0.783 1.   ]\n",
      "\n",
      "Classe verdadeira: 1\n",
      "Classe predita:    1\n",
      "Confiança da predição: 84%\n",
      "Vetor de saída (sigmoid): [0.84]\n",
      "\n",
      "\n"
     ]
    }
   ],
   "source": [
    "for i in range(2):\n",
    "    input_vector = np.array(x_test.iloc[i])\n",
    "    y_true = y_test[i]\n",
    "    y_pred, _ = feed_forward(stages, input_vector)\n",
    "    \n",
    "    raw = y_pred[0]\n",
    "    y_pred_label = int(raw >= 0.5)\n",
    "    confidence = raw if y_pred_label == 1 else 1 - raw\n",
    "\n",
    "    print(f\"Exemplo {i+1}\")\n",
    "    print()\n",
    "    print(f\"Entrada (vetor de características):\\n{np.round(input_vector, 3)}\\n\")\n",
    "    print(f\"Classe verdadeira: {y_true}\")\n",
    "    print(f\"Classe predita:    {y_pred_label}\")\n",
    "    print(f\"Confiança da predição: {(confidence * 100):.0f}%\")\n",
    "    print(f\"Vetor de saída (sigmoid): {np.round(y_pred, 3)}\")\n",
    "    print(\"\\n\")\n",
    "\n",
    "\n"
   ]
  }
 ],
 "metadata": {
  "kernelspec": {
   "display_name": "Python 3",
   "language": "python",
   "name": "python3"
  },
  "language_info": {
   "codemirror_mode": {
    "name": "ipython",
    "version": 3
   },
   "file_extension": ".py",
   "mimetype": "text/x-python",
   "name": "python",
   "nbconvert_exporter": "python",
   "pygments_lexer": "ipython3",
   "version": "3.11.9"
  }
 },
 "nbformat": 4,
 "nbformat_minor": 5
}
