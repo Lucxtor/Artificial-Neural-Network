{
 "cells": [
  {
   "cell_type": "markdown",
   "id": "0bdd139e",
   "metadata": {},
   "source": [
    "# Rede Neural para Classificação com Dados Múltiplos\n",
    "Este notebook implementa e treina uma rede neural simples para uma tarefa de classificação com múltiplas classes (4 no total), utilizando uma arquitetura `ReLU → ReLU → Softmax`."
   ]
  },
  {
   "cell_type": "code",
   "execution_count": 22,
   "id": "c6b91689",
   "metadata": {},
   "outputs": [],
   "source": [
    "import numpy as np\n",
    "from ann import initialize_layers, feed_forward\n",
    "from backpropagation import backpropagation\n",
    "from prepareData.prepareDataMultipleClassification import prepareDataMultipleClassification\n",
    "from cost import cost_funcs\n",
    "from training import train\n",
    "from sklearn.metrics import classification_report\n",
    "import matplotlib.pyplot as plt\n",
    "from sklearn.metrics import confusion_matrix, ConfusionMatrixDisplay"
   ]
  },
  {
   "cell_type": "markdown",
   "id": "ecc74832",
   "metadata": {},
   "source": [
    "## Configuração da Rede Neural\n",
    "Aqui definimos a arquitetura da rede e a inicialização das camadas."
   ]
  },
  {
   "cell_type": "code",
   "execution_count": 8,
   "id": "d0a78c9a",
   "metadata": {},
   "outputs": [],
   "source": [
    "input_size = 20\n",
    "\n",
    "layers = [\n",
    "    {'neurons': 10, 'activation_function': 'relu'},\n",
    "    {'neurons': 10, 'activation_function': 'relu'},\n",
    "    {'neurons': 4, 'activation_function': 'softmax'}\n",
    "]\n",
    "\n",
    "ann_layer = initialize_layers(layers, c_inputs=input_size)"
   ]
  },
  {
   "cell_type": "markdown",
   "id": "85293467",
   "metadata": {},
   "source": [
    "## Preparação dos Dados\n",
    "Utilizamos uma função auxiliar para carregar os dados de treino e teste.\n",
    "\n",
    "### As classes preditas são:\n",
    "0 - low cost\n",
    "\n",
    "1 - medium cost\n",
    "\n",
    "2 - high cost\n",
    "\n",
    "3 - very high cost"
   ]
  },
  {
   "cell_type": "code",
   "execution_count": 9,
   "id": "207cd448",
   "metadata": {},
   "outputs": [
    {
     "name": "stdout",
     "output_type": "stream",
     "text": [
      "Dados de entrada:\n",
      "['battery_power', 'blue', 'clock_speed', 'dual_sim', 'fc', 'four_g', 'int_memory', 'm_dep', 'mobile_wt', 'n_cores', 'pc', 'px_height', 'px_width', 'ram', 'sc_h', 'sc_w', 'talk_time', 'three_g', 'touch_screen', 'wifi']\n",
      "\n",
      "Dados de saída:\n",
      "['price_0', 'price_1', 'price_2', 'price_3']\n",
      "\n",
      "Shape dos dados:\n",
      "x_train: (1600, 20), y_train: (1600, 4)\n",
      "x_test:  (400, 20),  y_test:  (400, 4)\n"
     ]
    }
   ],
   "source": [
    "x_train, x_test, y_train, y_test = prepareDataMultipleClassification()\n",
    "\n",
    "print(\"Dados de entrada:\")\n",
    "print(x_train.columns.tolist())\n",
    "print()\n",
    "\n",
    "print(\"Dados de saída:\")\n",
    "print(y_train.columns.tolist())\n",
    "print()\n",
    "\n",
    "print(\"Shape dos dados:\")\n",
    "print(f\"x_train: {x_train.shape}, y_train: {np.array(y_train).shape}\")\n",
    "print(f\"x_test:  {x_test.shape},  y_test:  {np.array(y_test).shape}\")"
   ]
  },
  {
   "cell_type": "code",
   "execution_count": 15,
   "id": "ea40c06c",
   "metadata": {},
   "outputs": [
    {
     "data": {
      "image/png": "[encoded data removed]",
      "text/plain": [
       "<Figure size 640x480 with 1 Axes>"
      ]
     },
     "metadata": {},
     "output_type": "display_data"
    }
   ],
   "source": [
    "\n",
    "y_labels = np.argmax(y_test, axis=1)\n",
    "plt.hist(y_labels, bins=np.arange(5)-0.5, rwidth=0.8)\n",
    "plt.title(\"Distribuição das Classes no Conjunto de Treino\")\n",
    "plt.xlabel(\"Classe\")\n",
    "plt.ylabel(\"Frequência\")\n",
    "plt.xticks([0, 1, 2, 3])\n",
    "plt.grid(True)\n",
    "plt.show()"
   ]
  },
  {
   "cell_type": "markdown",
   "id": "a60b374d",
   "metadata": {},
   "source": [
    "## Treinamento da Rede Neural\n",
    "Treinamos a rede por 10 épocas utilizando a função de custo `categorical_cross_entropy` e uma taxa de aprendizado de `0.002`."
   ]
  },
  {
   "cell_type": "code",
   "execution_count": 10,
   "id": "7837ecd8",
   "metadata": {},
   "outputs": [],
   "source": [
    "ann = train(\n",
    "    ann=ann_layer,\n",
    "    epochs=10,\n",
    "    x=x_train,\n",
    "    y=np.array(y_train),\n",
    "    learning_rate=0.002,\n",
    "    cost_func_name='categorical_cross_entropy'\n",
    ")"
   ]
  },
  {
   "cell_type": "markdown",
   "id": "86071551",
   "metadata": {},
   "source": [
    "## Avaliação do Modelo\n",
    "Função para avaliar a acurácia utilizando o conjunto de testes e apresentando os resultados com a função `classification_report` e `confusion_matrix` do `sklearn`."
   ]
  },
  {
   "cell_type": "code",
   "execution_count": 25,
   "id": "97436788",
   "metadata": {},
   "outputs": [],
   "source": [
    "def evaluate(ann, x, y):\n",
    "    predictions = []\n",
    "    for observation_id in range(len(x)):\n",
    "        input = np.array(x.iloc[observation_id])\n",
    "        prediction, _ = feed_forward(ann, input)\n",
    "        one_hot_prediction = np.zeros_like(prediction)\n",
    "        one_hot_prediction[np.argmax(prediction)] = 1\n",
    "        predictions.append(one_hot_prediction)\n",
    "    \n",
    "    print(\"\\n Resultados da Classificação:\")\n",
    "    print(classification_report(y, predictions))\n",
    "    \n",
    "    y_true_matrix = np.argmax(y, axis=1)\n",
    "    y_pred_matrix = np.argmax(predictions, axis=1)\n",
    "\n",
    "    cm = confusion_matrix(y_true_matrix, y_pred_matrix)\n",
    "    disp = ConfusionMatrixDisplay(confusion_matrix=cm)\n",
    "    disp.plot(cmap=\"Blues\")\n",
    "    plt.title(\"Matriz de Confusão\")\n",
    "    plt.show()"
   ]
  },
  {
   "cell_type": "code",
   "execution_count": 26,
   "id": "89df3444",
   "metadata": {},
   "outputs": [
    {
     "name": "stdout",
     "output_type": "stream",
     "text": [
      "\n",
      " Resultados da Classificação:\n",
      "              precision    recall  f1-score   support\n",
      "\n",
      "           0       0.94      0.96      0.95       102\n",
      "           1       0.94      0.65      0.77        95\n",
      "           2       0.73      0.86      0.79       106\n",
      "           3       0.86      0.94      0.90        97\n",
      "\n",
      "   micro avg       0.85      0.85      0.85       400\n",
      "   macro avg       0.87      0.85      0.85       400\n",
      "weighted avg       0.87      0.85      0.85       400\n",
      " samples avg       0.85      0.85      0.85       400\n",
      "\n"
     ]
    },
    {
     "data": {
      "image/png": "[encoded data removed]",
      "text/plain": [
       "<Figure size 640x480 with 2 Axes>"
      ]
     },
     "metadata": {},
     "output_type": "display_data"
    }
   ],
   "source": [
    "evaluate(ann, x_test, y_test)"
   ]
  },
  {
   "cell_type": "markdown",
   "id": "b3083f77",
   "metadata": {},
   "source": [
    "# Exemplo de Predições"
   ]
  },
  {
   "cell_type": "code",
   "execution_count": 28,
   "id": "1d75faac",
   "metadata": {},
   "outputs": [
    {
     "name": "stdout",
     "output_type": "stream",
     "text": [
      "Exemplo 1\n",
      "\n",
      "Entrada (vetor de características):\n",
      "[0.509 1.    0.36  1.    0.053 1.    0.484 0.333 0.192 0.143 0.1   0.209\n",
      " 0.096 0.833 0.929 0.722 0.444 1.    1.    0.   ]\n",
      "\n",
      "Classe verdadeira: 3\n",
      "Classe predita:    3\n",
      "Confiança da predição: 0.65\n",
      "Vetor de saída (softmax): [0.001 0.036 0.311 0.652]\n",
      "\n",
      "\n",
      "Exemplo 2\n",
      "\n",
      "Entrada (vetor de características):\n",
      "[0.131 0.    0.88  1.    0.263 1.    0.29  0.333 0.775 0.143 0.3   0.244\n",
      " 0.652 0.001 0.5   0.333 0.111 1.    1.    1.   ]\n",
      "\n",
      "Classe verdadeira: 0\n",
      "Classe predita:    0\n",
      "Confiança da predição: 0.80\n",
      "Vetor de saída (softmax): [0.8   0.182 0.019 0.   ]\n",
      "\n",
      "\n"
     ]
    }
   ],
   "source": [
    "for i in range(2):\n",
    "    input_vector = np.array(x_test.iloc[i])\n",
    "    y_true = np.argmax(y_test.iloc[i])\n",
    "    y_pred, _ = feed_forward(ann, input_vector)\n",
    "    y_pred_label = np.argmax(y_pred)\n",
    "    confidence = np.max(y_pred)\n",
    "\n",
    "    print(f\"Exemplo {i+1}\")\n",
    "    print()\n",
    "    print(f\"Entrada (vetor de características):\\n{np.round(input_vector, 3)}\\n\")\n",
    "    print(f\"Classe verdadeira: {y_true}\")\n",
    "    print(f\"Classe predita:    {y_pred_label}\")\n",
    "    print(f\"Confiança da predição: {confidence:.2f}\")\n",
    "    print(f\"Vetor de saída (softmax): {np.round(y_pred, 3)}\")\n",
    "    print(\"\\n\")\n"
   ]
  }
 ],
 "metadata": {
  "kernelspec": {
   "display_name": "Python 3",
   "language": "python",
   "name": "python3"
  },
  "language_info": {
   "codemirror_mode": {
    "name": "ipython",
    "version": 3
   },
   "file_extension": ".py",
   "mimetype": "text/x-python",
   "name": "python",
   "nbconvert_exporter": "python",
   "pygments_lexer": "ipython3",
   "version": "3.11.4"
  }
 },
 "nbformat": 4,
 "nbformat_minor": 5
}
